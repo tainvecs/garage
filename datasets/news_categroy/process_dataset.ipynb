{
 "cells": [
  {
   "cell_type": "markdown",
   "metadata": {},
   "source": [
    "## Load Packages and Set Arguments"
   ]
  },
  {
   "cell_type": "code",
   "execution_count": 1,
   "metadata": {},
   "outputs": [],
   "source": [
    "import json\n",
    "import re\n",
    "import uuid"
   ]
  },
  {
   "cell_type": "code",
   "execution_count": 2,
   "metadata": {},
   "outputs": [],
   "source": [
    "raw_data_path = \"raw-news_category-100.example.json\"\n",
    "processed_data_path = \"processed-news_category-100.exmpale.json\"\n",
    "processed_data_es_path = \"processed-news_category-100.es.exmpale.json\""
   ]
  },
  {
   "cell_type": "markdown",
   "metadata": {},
   "source": [
    "## Utility functions"
   ]
  },
  {
   "cell_type": "code",
   "execution_count": 3,
   "metadata": {},
   "outputs": [],
   "source": [
    "def dump_json_list(out_path: str, json_data: list): \n",
    "\n",
    "    # json data -> str\n",
    "    out_jstr_list = []\n",
    "    for d in json_data: \n",
    "        out_jstr_list.append(json.dumps(d))\n",
    "    \n",
    "    # joined and format output str\n",
    "    joined_out_str = \"[\\n{body}\\n]\\n\".format(\n",
    "        body=',\\n'.join(out_jstr_list)\n",
    "    )\n",
    "    \n",
    "    # write output str\n",
    "    with open(out_path, 'w') as ofile: \n",
    "        ofile.write(joined_out_str)"
   ]
  },
  {
   "cell_type": "markdown",
   "metadata": {},
   "source": [
    "## Raw Data\n",
    "- The test data is forked from [News Category\n",
    "Dataset](https://www.kaggle.com/datasets/rmisra/news-category-dataset).\n",
    "- It contains around 200k news headlines from the year 2012 to 2018 obtained from\n",
    "[HuffPost](https://www.huffpost.com/)."
   ]
  },
  {
   "cell_type": "code",
   "execution_count": 4,
   "metadata": {},
   "outputs": [
    {
     "name": "stdout",
     "output_type": "stream",
     "text": [
      "{\n",
      "    \"category\": \"CRIME\",\n",
      "    \"headline\": \"There Were 2 Mass Shootings In Texas Last Week, But Only 1 On TV\",\n",
      "    \"authors\": \"Melissa Jeltsen\",\n",
      "    \"link\": \"https://www.huffingtonpost.com/entry/texas-amanda-painter-mass-shooting_us_5b081ab4e4b0802d69caad89\",\n",
      "    \"short_description\": \"She left her husband. He killed their children. Just another day in America.\",\n",
      "    \"date\": \"2018-05-26\"\n",
      "}\n"
     ]
    }
   ],
   "source": [
    "# load raw data\n",
    "raw_data_list = []\n",
    "with open(raw_data_path, 'r') as infile: \n",
    "    for line in infile: \n",
    "        if line.strip():\n",
    "            raw_data_list.append(json.loads(line))\n",
    "            \n",
    "# print debug info\n",
    "print(json.dumps(raw_data_list[0], indent=4))"
   ]
  },
  {
   "cell_type": "markdown",
   "metadata": {},
   "source": [
    "## Processed Data\n",
    "- split `authors` string into list\n",
    "- extract `news_id` from `link`\n",
    "- update keys' names\n"
   ]
  },
  {
   "cell_type": "code",
   "execution_count": 5,
   "metadata": {},
   "outputs": [
    {
     "name": "stdout",
     "output_type": "stream",
     "text": [
      "{\n",
      "    \"uuid\": \"bfc90120-6883-4ef8-90e8-096b4d872878\",\n",
      "    \"news_id\": \"5b081ab4e4b0802d69caad89\",\n",
      "    \"link\": \"https://www.huffingtonpost.com/entry/texas-amanda-painter-mass-shooting_us_5b081ab4e4b0802d69caad89\",\n",
      "    \"title\": \"There Were 2 Mass Shootings In Texas Last Week, But Only 1 On TV\",\n",
      "    \"description\": \"She left her husband. He killed their children. Just another day in America.\",\n",
      "    \"date\": \"2018-05-26\",\n",
      "    \"authors\": [\n",
      "        \"Melissa Jeltsen\"\n",
      "    ],\n",
      "    \"category\": \"CRIME\"\n",
      "}\n"
     ]
    }
   ],
   "source": [
    "\n",
    "processed_data_list = []\n",
    "\n",
    "for data in raw_data_list: \n",
    "    \n",
    "    # split authors\n",
    "    authors_str = data.get('authors', \"\")\n",
    "    author_list = []\n",
    "    for author in re.split(r\"(?i)(?: and |[,])\", authors_str): \n",
    "        if author.strip(): \n",
    "            author_list.append(author.strip())\n",
    "    \n",
    "    # extract news_id from url\n",
    "    link = data.get('link', \"\")\n",
    "    news_id = link.rsplit('_', 1)[-1].strip()\n",
    "\n",
    "    # append processed result\n",
    "    processed_data_list.append(\n",
    "        {\n",
    "            'uuid':        str(uuid.uuid4()),\n",
    "            'news_id':     news_id,\n",
    "            'link':        data.get('link', \"\"),\n",
    "            'title':       data.get('headline', \"\"),\n",
    "            'description': data.get('short_description', \"\"),\n",
    "            'date':        data.get('date', \"\"),\n",
    "            'authors':     author_list,\n",
    "            'category':    data.get('category', \"\")\n",
    "        }\n",
    "    )\n",
    "\n",
    "# print debug info\n",
    "print(json.dumps(processed_data_list[0], indent=4))"
   ]
  },
  {
   "cell_type": "code",
   "execution_count": 6,
   "metadata": {},
   "outputs": [],
   "source": [
    "# output processed result\n",
    "dump_json_list(processed_data_path, processed_data_list)"
   ]
  },
  {
   "cell_type": "markdown",
   "metadata": {},
   "source": [
    "## Processed Data for Elasticsearch Indexing"
   ]
  },
  {
   "cell_type": "code",
   "execution_count": 7,
   "metadata": {},
   "outputs": [],
   "source": [
    "processed_data_es_list = []\n",
    "\n",
    "for data in processed_data_list: \n",
    "    processed_data_es_list.append(\n",
    "        {\n",
    "            \"index\":{\n",
    "                \"_id\":data['uuid']\n",
    "            }\n",
    "        }\n",
    "    )\n",
    "    processed_data_es_list.append(data)"
   ]
  },
  {
   "cell_type": "code",
   "execution_count": 8,
   "metadata": {},
   "outputs": [],
   "source": [
    "# json data -> str\n",
    "out_jstr_list = []\n",
    "for d in processed_data_es_list: \n",
    "    out_jstr_list.append(json.dumps(d))\n",
    "\n",
    "# joined and format output str\n",
    "joined_out_str = \"{body}\\n\".format(\n",
    "    body='\\n'.join(out_jstr_list)\n",
    ")\n",
    "\n",
    "# write output str\n",
    "with open(processed_data_es_path, 'w') as ofile: \n",
    "    ofile.write(joined_out_str)"
   ]
  }
 ],
 "metadata": {
  "kernelspec": {
   "display_name": "Python 3",
   "language": "python",
   "name": "python3"
  },
  "language_info": {
   "codemirror_mode": {
    "name": "ipython",
    "version": 3
   },
   "file_extension": ".py",
   "mimetype": "text/x-python",
   "name": "python",
   "nbconvert_exporter": "python",
   "pygments_lexer": "ipython3",
   "version": "3.9.13"
  }
 },
 "nbformat": 4,
 "nbformat_minor": 4
}
