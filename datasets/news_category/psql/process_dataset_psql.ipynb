{
 "cells": [
  {
   "cell_type": "code",
   "execution_count": 1,
   "id": "bfcd8161-177e-473a-9043-daa97c19010a",
   "metadata": {},
   "outputs": [],
   "source": [
    "import json "
   ]
  },
  {
   "cell_type": "code",
   "execution_count": 2,
   "id": "bcd2b92a-0b88-4e7f-9d97-74b192dd1074",
   "metadata": {},
   "outputs": [],
   "source": [
    "with open('raw-news_category-100.psql.json', 'r') as in_file: \n",
    "    raw_json = json.load(in_file)"
   ]
  },
  {
   "cell_type": "markdown",
   "id": "606f0c1a-ff4f-4937-b144-a72c736dfe80",
   "metadata": {
    "tags": []
   },
   "source": [
    "```json\n",
    "{\n",
    "    'uuid': '1bfe7f10-e8da-4cde-a8e7-f84c1802a9c7',\n",
    "    'link': 'https://www.huffingtonpost.com/entry/texas-amanda-painter-mass-shooting_us_5b081ab4e4b0802d69caad89',\n",
    "    'title': 'There Were 2 Mass Shootings In Texas Last Week, But Only 1 On TV',\n",
    "    'description': 'She left her husband. He killed their children. Just another day in America.',\n",
    "    'date': '2018-05-26',\n",
    "    'authors': ['Melissa Jeltsen'],\n",
    "    'category': 'CRIME'\n",
    "}\n",
    "```"
   ]
  },
  {
   "cell_type": "code",
   "execution_count": 3,
   "id": "3c77a678-75f6-4ba4-9a80-5ccc06f7ee6c",
   "metadata": {},
   "outputs": [],
   "source": [
    "news_insert_header = \"\"\"INSERT INTO \"news\" (\"id\", \"uuid\", \"link\", \"title\", \"description\", \"created_at\", \"category\") VALUES\"\"\"\n",
    "news_insert_lines = []\n",
    "\n",
    "authors_insert_header = \"\"\"INSERT INTO \"authors\" (\"id\", \"name\") VALUES\"\"\"\n",
    "authors_insert_lines = []\n",
    "\n",
    "news_authors_insert_header = \"\"\"INSERT INTO \"news_authors\" (\"news_id\", \"authors_id\") VALUES\"\"\"\n",
    "news_authors_insert_lines = []\n",
    "\n",
    "news_n = 0\n",
    "authors_name_to_id = {}\n",
    "authors_n = 0"
   ]
  },
  {
   "cell_type": "code",
   "execution_count": 4,
   "id": "81a87ef6-d5a1-4af2-be0b-22ccfbd7ba41",
   "metadata": {},
   "outputs": [],
   "source": [
    "for j in raw_json: \n",
    "    \n",
    "    news_uuid = j['uuid']\n",
    "    \n",
    "    # news_id start with 1\n",
    "    news_n += 1\n",
    "    news_id = news_n\n",
    "    n_insert_line = \"({}, '{}', '{}', '{}', '{}', '{}', '{}')\".format(\n",
    "        news_id, \n",
    "        news_uuid,\n",
    "        j['link'],\n",
    "        j['title'].replace(\"'\", \"''\"),\n",
    "        j['description'].replace(\"'\", \"''\"),\n",
    "        j['date'],\n",
    "        j['category'],\n",
    "    )\n",
    "    news_insert_lines.append(n_insert_line)\n",
    "    \n",
    "    # authors_id\n",
    "    for a_name in j['authors']: \n",
    "        \n",
    "        if a_name in authors_name_to_id: \n",
    "            a_id = authors_name_to_id['a_name']\n",
    "        else: \n",
    "            authors_n += 1\n",
    "            a_id = authors_n\n",
    "            authors_name_to_id['a_name'] = a_id\n",
    "            a_insert_line = \"({}, '{}')\".format(a_id, a_name.replace(\"'\", \"''\"))\n",
    "            authors_insert_lines.append(a_insert_line)\n",
    "        \n",
    "        n_a_insert_line = \"({}, {})\".format(news_id, a_id)\n",
    "        news_authors_insert_lines.append(n_a_insert_line)\n",
    "            "
   ]
  },
  {
   "cell_type": "code",
   "execution_count": 5,
   "id": "78685f1d-1bcb-4c49-bf97-2031b40f3a62",
   "metadata": {},
   "outputs": [],
   "source": [
    "news_insert_script = news_insert_header + '\\n' + \",\\n\".join(news_insert_lines) + \";\"\n",
    "authors_insert_script = authors_insert_header + '\\n' + \",\\n\".join(authors_insert_lines) + \";\"\n",
    "news_authors_insert_script = news_authors_insert_header + '\\n' + \",\\n\".join(news_authors_insert_lines) + \";\"\n",
    "\n",
    "with open(\"insert-news_category.psql.sql\", 'w') as out_file: \n",
    "    out_file.write(news_insert_script+'\\n\\n'+authors_insert_script+'\\n\\n'+news_authors_insert_script)"
   ]
  }
 ],
 "metadata": {
  "kernelspec": {
   "display_name": "Python 3 (ipykernel)",
   "language": "python",
   "name": "python3"
  },
  "language_info": {
   "codemirror_mode": {
    "name": "ipython",
    "version": 3
   },
   "file_extension": ".py",
   "mimetype": "text/x-python",
   "name": "python",
   "nbconvert_exporter": "python",
   "pygments_lexer": "ipython3",
   "version": "3.10.4"
  }
 },
 "nbformat": 4,
 "nbformat_minor": 5
}
