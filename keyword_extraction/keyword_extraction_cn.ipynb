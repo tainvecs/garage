{
 "cells": [
  {
   "cell_type": "markdown",
   "id": "32b58979-be33-4b2a-96aa-19085eea288e",
   "metadata": {
    "tags": []
   },
   "source": [
    "# Keyword Extraction\n",
    "\n",
    "## KeyBERT\n",
    "- [KeyBERT](https://github.com/MaartenGr/KeyBERT)\n",
    "- [sentence-transformers](https://huggingface.co/sentence-transformers/paraphrase-multilingual-MiniLM-L12-v2)"
   ]
  },
  {
   "cell_type": "code",
   "execution_count": 1,
   "id": "37e6ff55-3ea2-41eb-87d9-760e215f4d37",
   "metadata": {
    "collapsed": true,
    "jupyter": {
     "outputs_hidden": true
    },
    "tags": []
   },
   "outputs": [
    {
     "name": "stderr",
     "output_type": "stream",
     "text": [
      "/Users/lynch/dotfiles/home/.python/.pyenv/versions/3.10.4-keyword-extraction/lib/python3.10/site-packages/tqdm/auto.py:22: TqdmWarning: IProgress not found. Please update jupyter and ipywidgets. See https://ipywidgets.readthedocs.io/en/stable/user_install.html\n",
      "  from .autonotebook import tqdm as notebook_tqdm\n"
     ]
    }
   ],
   "source": [
    "import json\n",
    "from keybert import KeyBERT"
   ]
  },
  {
   "cell_type": "code",
   "execution_count": 2,
   "id": "c6765e03-34ce-4e0d-ab3e-15c47d2e6cc8",
   "metadata": {},
   "outputs": [],
   "source": [
    "# use multilingual sentence-transformers model \n",
    "# https://huggingface.co/sentence-transformers/paraphrase-multilingual-MiniLM-L12-v2\n",
    "kw_model = KeyBERT(model=\"paraphrase-multilingual-MiniLM-L12-v2\")\n",
    "\n",
    "# load 100 chinese posts as samples\n",
    "with open(\"data/cn_100_tc.json\", 'r') as infile: \n",
    "    json_data = json.load(infile)\n",
    "    doc_tc_list = [ d.strip() for d in json_data]"
   ]
  },
  {
   "cell_type": "code",
   "execution_count": 3,
   "id": "87890b22-2e3c-4fa8-b34a-19cf41db3e59",
   "metadata": {},
   "outputs": [
    {
     "name": "stdout",
     "output_type": "stream",
     "text": [
      "[('2022', 0.5925), ('參賽', 0.54), ('去年', 0.4853), ('推薦', 0.4373), ('我要', 0.4157)]\n",
      "[('stm32', 0.5403), ('參考手冊', 0.4746), ('手冊', 0.4217), ('書籍', 0.3949), ('開發板', 0.3702)]\n",
      "[('發表', 0.4258), ('ithome', 0.408), ('內容', 0.3948), ('負載平衡', 0.3894), ('本頁', 0.3626)]\n",
      "[('grid', 0.5448), ('彈性', 0.3578), ('定位問題', 0.319), ('flexbox', 0.3157), ('壓縮', 0.3132)]\n",
      "[('學習效果', 0.5201), ('課程', 0.454), ('新課程', 0.4396), ('單元測試', 0.4385), ('教學', 0.4253)]\n",
      "[('shadow', 0.423), ('陰影', 0.3948), ('跨平台', 0.3866), ('平台', 0.3428), ('platform', 0.2936)]\n",
      "[('foundryup', 0.3489), ('synchronization', 0.3445), ('conclusion', 0.3323), ('鏈上', 0.3289), ('過程', 0.3271)]\n",
      "[('開發板', 0.5563), ('pcb', 0.5439), ('pcbdoc', 0.5195), ('電腦', 0.4536), ('軟體', 0.4532)]\n",
      "[('uselayouteffect', 0.4324), ('點擊', 0.4244), ('按鈕', 0.4176), ('useeffect', 0.3855), ('toggle', 0.3607)]\n",
      "[('組織', 0.4294), ('數位', 0.4123), ('公司', 0.399), ('基礎設施', 0.3931), ('平台', 0.3892)]\n",
      "[('熱導管', 0.6773), ('導熱管', 0.664), ('散熱器', 0.6462), ('ar12', 0.4989), ('熱量', 0.4798)]\n",
      "[('寫出', 0.5736), ('本文', 0.5715), ('內容', 0.57), ('前言', 0.5609), ('寫法', 0.5476)]\n",
      "[('requests', 0.4816), ('commands', 0.4572), ('command', 0.41), ('順序', 0.3916), ('request', 0.3869)]\n",
      "[('測試環境', 0.6676), ('環境', 0.4686), ('測試', 0.4627), ('登入', 0.4442), ('開放', 0.3818)]\n",
      "[('資料庫', 0.5119), ('sql', 0.4302), ('版本控制', 0.3998), ('更新', 0.3582), ('程式', 0.3444)]\n",
      "[('學習心得', 0.4851), ('網路上', 0.4789), ('必修課', 0.4762), ('課業', 0.4672), ('無意間', 0.4439)]\n",
      "[('stm32', 0.6069), ('stm32cube', 0.6028), ('stm32cubemxlib', 0.5698), ('stm32cubeide', 0.5581), ('stm32cubemx', 0.5542)]\n",
      "[('validator', 0.56), ('同步', 0.4164), ('測試', 0.4053), ('更新', 0.3206), ('資料', 0.3057)]\n",
      "[('一周', 0.4995), ('機器人', 0.4641), ('周五', 0.452), ('關閉', 0.4124), ('自動', 0.3576)]\n",
      "[('mockgen', 0.4086), ('interface', 0.3936), ('同步', 0.3911), ('當前目錄', 0.3641), ('gomock', 0.3557)]\n"
     ]
    }
   ],
   "source": [
    "# unigram extraction using KeyBERT\n",
    "sample_len = min(len(doc_tc_list), 20)\n",
    "for doc_tc in doc_tc_list[:sample_len]: \n",
    "    kws_tc = kw_model.extract_keywords(doc_tc, keyphrase_ngram_range=(1, 1), top_n=5)\n",
    "    print(kws_tc)"
   ]
  },
  {
   "cell_type": "code",
   "execution_count": null,
   "id": "cd64b1a5-b0e4-41ca-ba5d-6e690406525c",
   "metadata": {},
   "outputs": [],
   "source": []
  }
 ],
 "metadata": {
  "kernelspec": {
   "display_name": "Python 3 (ipykernel)",
   "language": "python",
   "name": "python3"
  },
  "language_info": {
   "codemirror_mode": {
    "name": "ipython",
    "version": 3
   },
   "file_extension": ".py",
   "mimetype": "text/x-python",
   "name": "python",
   "nbconvert_exporter": "python",
   "pygments_lexer": "ipython3",
   "version": "3.10.4"
  }
 },
 "nbformat": 4,
 "nbformat_minor": 5
}
